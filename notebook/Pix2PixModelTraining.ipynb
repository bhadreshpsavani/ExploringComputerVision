{
  "nbformat": 4,
  "nbformat_minor": 0,
  "metadata": {
    "colab": {
      "provenance": [],
      "machine_shape": "hm",
      "gpuType": "T4",
      "authorship_tag": "ABX9TyMxpJx/6JS3xTnfidbdjc/q",
      "include_colab_link": true
    },
    "kernelspec": {
      "name": "python3",
      "display_name": "Python 3"
    },
    "language_info": {
      "name": "python"
    },
    "accelerator": "GPU"
  },
  "cells": [
    {
      "cell_type": "markdown",
      "metadata": {
        "id": "view-in-github",
        "colab_type": "text"
      },
      "source": [
        "<a href=\"https://colab.research.google.com/github/bhadreshpsavani/ExploringComputerVision/blob/main/notebook/Pix2PixModelTraining.ipynb\" target=\"_parent\"><img src=\"https://colab.research.google.com/assets/colab-badge.svg\" alt=\"Open In Colab\"/></a>"
      ]
    },
    {
      "cell_type": "code",
      "execution_count": 32,
      "metadata": {
        "colab": {
          "base_uri": "https://localhost:8080/"
        },
        "id": "o-9tq91XHilY",
        "outputId": "8f2c29c5-c419-4ec0-a14f-963585d43c7b"
      },
      "outputs": [
        {
          "output_type": "stream",
          "name": "stdout",
          "text": [
            "Cloning into 'community-events'...\n",
            "remote: Enumerating objects: 2482, done.\u001b[K\n",
            "remote: Counting objects: 100% (2482/2482), done.\u001b[K\n",
            "remote: Compressing objects: 100% (1026/1026), done.\u001b[K\n",
            "remote: Total 2482 (delta 1363), reused 2388 (delta 1301), pack-reused 0\u001b[K\n",
            "Receiving objects: 100% (2482/2482), 19.70 MiB | 22.82 MiB/s, done.\n",
            "Resolving deltas: 100% (1363/1363), done.\n"
          ]
        }
      ],
      "source": [
        "!git clone https://github.com/huggingface/community-events"
      ]
    },
    {
      "cell_type": "code",
      "source": [
        "%cd community-events"
      ],
      "metadata": {
        "colab": {
          "base_uri": "https://localhost:8080/"
        },
        "id": "EjBMn1l2Hpec",
        "outputId": "eacc05ef-8ec4-451e-e041-ce7eb6d0a0e8"
      },
      "execution_count": 33,
      "outputs": [
        {
          "output_type": "stream",
          "name": "stdout",
          "text": [
            "/content/community-events/community-events\n"
          ]
        }
      ]
    },
    {
      "cell_type": "code",
      "source": [
        "!pip install -r requirements.txt"
      ],
      "metadata": {
        "colab": {
          "base_uri": "https://localhost:8080/"
        },
        "id": "yWCuloAFH4dv",
        "outputId": "4227c313-686b-45ac-eb84-4ba8a3813854"
      },
      "execution_count": 34,
      "outputs": [
        {
          "output_type": "stream",
          "name": "stdout",
          "text": [
            "Requirement already satisfied: accelerate in /usr/local/lib/python3.10/dist-packages (from -r requirements.txt (line 1)) (0.21.0)\n",
            "Requirement already satisfied: torch in /usr/local/lib/python3.10/dist-packages (from -r requirements.txt (line 2)) (2.0.1+cu118)\n",
            "Requirement already satisfied: torchvision in /usr/local/lib/python3.10/dist-packages (from -r requirements.txt (line 3)) (0.15.2+cu118)\n",
            "Requirement already satisfied: datasets in /usr/local/lib/python3.10/dist-packages (from -r requirements.txt (line 4)) (2.14.2)\n",
            "Requirement already satisfied: scipy in /usr/local/lib/python3.10/dist-packages (from -r requirements.txt (line 5)) (1.10.1)\n",
            "Requirement already satisfied: wandb in /usr/local/lib/python3.10/dist-packages (from -r requirements.txt (line 6)) (0.15.7)\n",
            "Requirement already satisfied: einops in /usr/local/lib/python3.10/dist-packages (from -r requirements.txt (line 7)) (0.6.1)\n",
            "Requirement already satisfied: fire in /usr/local/lib/python3.10/dist-packages (from -r requirements.txt (line 8)) (0.5.0)\n",
            "Requirement already satisfied: retry in /usr/local/lib/python3.10/dist-packages (from -r requirements.txt (line 9)) (0.9.2)\n",
            "Requirement already satisfied: kornia==0.5.4 in /usr/local/lib/python3.10/dist-packages (from -r requirements.txt (line 10)) (0.5.4)\n",
            "Requirement already satisfied: numpy in /usr/local/lib/python3.10/dist-packages (from kornia==0.5.4->-r requirements.txt (line 10)) (1.22.4)\n",
            "Requirement already satisfied: packaging>=20.0 in /usr/local/lib/python3.10/dist-packages (from accelerate->-r requirements.txt (line 1)) (23.1)\n",
            "Requirement already satisfied: psutil in /usr/local/lib/python3.10/dist-packages (from accelerate->-r requirements.txt (line 1)) (5.9.5)\n",
            "Requirement already satisfied: pyyaml in /usr/local/lib/python3.10/dist-packages (from accelerate->-r requirements.txt (line 1)) (6.0.1)\n",
            "Requirement already satisfied: filelock in /usr/local/lib/python3.10/dist-packages (from torch->-r requirements.txt (line 2)) (3.12.2)\n",
            "Requirement already satisfied: typing-extensions in /usr/local/lib/python3.10/dist-packages (from torch->-r requirements.txt (line 2)) (4.7.1)\n",
            "Requirement already satisfied: sympy in /usr/local/lib/python3.10/dist-packages (from torch->-r requirements.txt (line 2)) (1.11.1)\n",
            "Requirement already satisfied: networkx in /usr/local/lib/python3.10/dist-packages (from torch->-r requirements.txt (line 2)) (3.1)\n",
            "Requirement already satisfied: jinja2 in /usr/local/lib/python3.10/dist-packages (from torch->-r requirements.txt (line 2)) (3.1.2)\n",
            "Requirement already satisfied: triton==2.0.0 in /usr/local/lib/python3.10/dist-packages (from torch->-r requirements.txt (line 2)) (2.0.0)\n",
            "Requirement already satisfied: cmake in /usr/local/lib/python3.10/dist-packages (from triton==2.0.0->torch->-r requirements.txt (line 2)) (3.25.2)\n",
            "Requirement already satisfied: lit in /usr/local/lib/python3.10/dist-packages (from triton==2.0.0->torch->-r requirements.txt (line 2)) (16.0.6)\n",
            "Requirement already satisfied: requests in /usr/local/lib/python3.10/dist-packages (from torchvision->-r requirements.txt (line 3)) (2.27.1)\n",
            "Requirement already satisfied: pillow!=8.3.*,>=5.3.0 in /usr/local/lib/python3.10/dist-packages (from torchvision->-r requirements.txt (line 3)) (9.4.0)\n",
            "Requirement already satisfied: pyarrow>=8.0.0 in /usr/local/lib/python3.10/dist-packages (from datasets->-r requirements.txt (line 4)) (9.0.0)\n",
            "Requirement already satisfied: dill<0.3.8,>=0.3.0 in /usr/local/lib/python3.10/dist-packages (from datasets->-r requirements.txt (line 4)) (0.3.7)\n",
            "Requirement already satisfied: pandas in /usr/local/lib/python3.10/dist-packages (from datasets->-r requirements.txt (line 4)) (1.5.3)\n",
            "Requirement already satisfied: tqdm>=4.62.1 in /usr/local/lib/python3.10/dist-packages (from datasets->-r requirements.txt (line 4)) (4.65.0)\n",
            "Requirement already satisfied: xxhash in /usr/local/lib/python3.10/dist-packages (from datasets->-r requirements.txt (line 4)) (3.3.0)\n",
            "Requirement already satisfied: multiprocess in /usr/local/lib/python3.10/dist-packages (from datasets->-r requirements.txt (line 4)) (0.70.15)\n",
            "Requirement already satisfied: fsspec[http]>=2021.11.1 in /usr/local/lib/python3.10/dist-packages (from datasets->-r requirements.txt (line 4)) (2023.6.0)\n",
            "Requirement already satisfied: aiohttp in /usr/local/lib/python3.10/dist-packages (from datasets->-r requirements.txt (line 4)) (3.8.5)\n",
            "Requirement already satisfied: huggingface-hub<1.0.0,>=0.14.0 in /usr/local/lib/python3.10/dist-packages (from datasets->-r requirements.txt (line 4)) (0.16.4)\n",
            "Requirement already satisfied: Click!=8.0.0,>=7.1 in /usr/local/lib/python3.10/dist-packages (from wandb->-r requirements.txt (line 6)) (8.1.6)\n",
            "Requirement already satisfied: GitPython!=3.1.29,>=1.0.0 in /usr/local/lib/python3.10/dist-packages (from wandb->-r requirements.txt (line 6)) (3.1.32)\n",
            "Requirement already satisfied: sentry-sdk>=1.0.0 in /usr/local/lib/python3.10/dist-packages (from wandb->-r requirements.txt (line 6)) (1.29.0)\n",
            "Requirement already satisfied: docker-pycreds>=0.4.0 in /usr/local/lib/python3.10/dist-packages (from wandb->-r requirements.txt (line 6)) (0.4.0)\n",
            "Requirement already satisfied: pathtools in /usr/local/lib/python3.10/dist-packages (from wandb->-r requirements.txt (line 6)) (0.1.2)\n",
            "Requirement already satisfied: setproctitle in /usr/local/lib/python3.10/dist-packages (from wandb->-r requirements.txt (line 6)) (1.3.2)\n",
            "Requirement already satisfied: setuptools in /usr/local/lib/python3.10/dist-packages (from wandb->-r requirements.txt (line 6)) (67.7.2)\n",
            "Requirement already satisfied: appdirs>=1.4.3 in /usr/local/lib/python3.10/dist-packages (from wandb->-r requirements.txt (line 6)) (1.4.4)\n",
            "Requirement already satisfied: protobuf!=4.21.0,<5,>=3.19.0 in /usr/local/lib/python3.10/dist-packages (from wandb->-r requirements.txt (line 6)) (3.20.3)\n",
            "Requirement already satisfied: six in /usr/local/lib/python3.10/dist-packages (from fire->-r requirements.txt (line 8)) (1.16.0)\n",
            "Requirement already satisfied: termcolor in /usr/local/lib/python3.10/dist-packages (from fire->-r requirements.txt (line 8)) (2.3.0)\n",
            "Requirement already satisfied: decorator>=3.4.2 in /usr/local/lib/python3.10/dist-packages (from retry->-r requirements.txt (line 9)) (4.4.2)\n",
            "Requirement already satisfied: py<2.0.0,>=1.4.26 in /usr/local/lib/python3.10/dist-packages (from retry->-r requirements.txt (line 9)) (1.11.0)\n",
            "Requirement already satisfied: attrs>=17.3.0 in /usr/local/lib/python3.10/dist-packages (from aiohttp->datasets->-r requirements.txt (line 4)) (23.1.0)\n",
            "Requirement already satisfied: charset-normalizer<4.0,>=2.0 in /usr/local/lib/python3.10/dist-packages (from aiohttp->datasets->-r requirements.txt (line 4)) (2.0.12)\n",
            "Requirement already satisfied: multidict<7.0,>=4.5 in /usr/local/lib/python3.10/dist-packages (from aiohttp->datasets->-r requirements.txt (line 4)) (6.0.4)\n",
            "Requirement already satisfied: async-timeout<5.0,>=4.0.0a3 in /usr/local/lib/python3.10/dist-packages (from aiohttp->datasets->-r requirements.txt (line 4)) (4.0.2)\n",
            "Requirement already satisfied: yarl<2.0,>=1.0 in /usr/local/lib/python3.10/dist-packages (from aiohttp->datasets->-r requirements.txt (line 4)) (1.9.2)\n",
            "Requirement already satisfied: frozenlist>=1.1.1 in /usr/local/lib/python3.10/dist-packages (from aiohttp->datasets->-r requirements.txt (line 4)) (1.4.0)\n",
            "Requirement already satisfied: aiosignal>=1.1.2 in /usr/local/lib/python3.10/dist-packages (from aiohttp->datasets->-r requirements.txt (line 4)) (1.3.1)\n",
            "Requirement already satisfied: gitdb<5,>=4.0.1 in /usr/local/lib/python3.10/dist-packages (from GitPython!=3.1.29,>=1.0.0->wandb->-r requirements.txt (line 6)) (4.0.10)\n",
            "Requirement already satisfied: urllib3<1.27,>=1.21.1 in /usr/local/lib/python3.10/dist-packages (from requests->torchvision->-r requirements.txt (line 3)) (1.26.16)\n",
            "Requirement already satisfied: certifi>=2017.4.17 in /usr/local/lib/python3.10/dist-packages (from requests->torchvision->-r requirements.txt (line 3)) (2023.7.22)\n",
            "Requirement already satisfied: idna<4,>=2.5 in /usr/local/lib/python3.10/dist-packages (from requests->torchvision->-r requirements.txt (line 3)) (3.4)\n",
            "Requirement already satisfied: MarkupSafe>=2.0 in /usr/local/lib/python3.10/dist-packages (from jinja2->torch->-r requirements.txt (line 2)) (2.1.3)\n",
            "Requirement already satisfied: python-dateutil>=2.8.1 in /usr/local/lib/python3.10/dist-packages (from pandas->datasets->-r requirements.txt (line 4)) (2.8.2)\n",
            "Requirement already satisfied: pytz>=2020.1 in /usr/local/lib/python3.10/dist-packages (from pandas->datasets->-r requirements.txt (line 4)) (2022.7.1)\n",
            "Requirement already satisfied: mpmath>=0.19 in /usr/local/lib/python3.10/dist-packages (from sympy->torch->-r requirements.txt (line 2)) (1.3.0)\n",
            "Requirement already satisfied: smmap<6,>=3.0.1 in /usr/local/lib/python3.10/dist-packages (from gitdb<5,>=4.0.1->GitPython!=3.1.29,>=1.0.0->wandb->-r requirements.txt (line 6)) (5.0.0)\n"
          ]
        }
      ]
    },
    {
      "cell_type": "code",
      "source": [
        "%cd community-events"
      ],
      "metadata": {
        "colab": {
          "base_uri": "https://localhost:8080/"
        },
        "id": "94cvyeZCJUHO",
        "outputId": "272135aa-aa7d-40fb-ee6f-4c50321b6e1e"
      },
      "execution_count": 35,
      "outputs": [
        {
          "output_type": "stream",
          "name": "stdout",
          "text": [
            "[Errno 2] No such file or directory: 'community-events'\n",
            "/content/community-events/community-events\n"
          ]
        }
      ]
    },
    {
      "cell_type": "code",
      "source": [
        "!pip install ."
      ],
      "metadata": {
        "colab": {
          "base_uri": "https://localhost:8080/"
        },
        "id": "pR4YohgwJefY",
        "outputId": "8dc20e68-6571-4025-ff24-73a58a40320b"
      },
      "execution_count": 36,
      "outputs": [
        {
          "output_type": "stream",
          "name": "stdout",
          "text": [
            "Processing /content/community-events/community-events\n",
            "  Preparing metadata (setup.py) ... \u001b[?25l\u001b[?25hdone\n",
            "Requirement already satisfied: accelerate in /usr/local/lib/python3.10/dist-packages (from huggan==0.0.0) (0.21.0)\n",
            "Requirement already satisfied: torch in /usr/local/lib/python3.10/dist-packages (from huggan==0.0.0) (2.0.1+cu118)\n",
            "Requirement already satisfied: torchvision in /usr/local/lib/python3.10/dist-packages (from huggan==0.0.0) (0.15.2+cu118)\n",
            "Requirement already satisfied: datasets in /usr/local/lib/python3.10/dist-packages (from huggan==0.0.0) (2.14.2)\n",
            "Requirement already satisfied: scipy in /usr/local/lib/python3.10/dist-packages (from huggan==0.0.0) (1.10.1)\n",
            "Requirement already satisfied: wandb in /usr/local/lib/python3.10/dist-packages (from huggan==0.0.0) (0.15.7)\n",
            "Requirement already satisfied: einops in /usr/local/lib/python3.10/dist-packages (from huggan==0.0.0) (0.6.1)\n",
            "Requirement already satisfied: fire in /usr/local/lib/python3.10/dist-packages (from huggan==0.0.0) (0.5.0)\n",
            "Requirement already satisfied: retry in /usr/local/lib/python3.10/dist-packages (from huggan==0.0.0) (0.9.2)\n",
            "Requirement already satisfied: kornia==0.5.4 in /usr/local/lib/python3.10/dist-packages (from huggan==0.0.0) (0.5.4)\n",
            "Requirement already satisfied: numpy in /usr/local/lib/python3.10/dist-packages (from kornia==0.5.4->huggan==0.0.0) (1.22.4)\n",
            "Requirement already satisfied: filelock in /usr/local/lib/python3.10/dist-packages (from torch->huggan==0.0.0) (3.12.2)\n",
            "Requirement already satisfied: typing-extensions in /usr/local/lib/python3.10/dist-packages (from torch->huggan==0.0.0) (4.7.1)\n",
            "Requirement already satisfied: sympy in /usr/local/lib/python3.10/dist-packages (from torch->huggan==0.0.0) (1.11.1)\n",
            "Requirement already satisfied: networkx in /usr/local/lib/python3.10/dist-packages (from torch->huggan==0.0.0) (3.1)\n",
            "Requirement already satisfied: jinja2 in /usr/local/lib/python3.10/dist-packages (from torch->huggan==0.0.0) (3.1.2)\n",
            "Requirement already satisfied: triton==2.0.0 in /usr/local/lib/python3.10/dist-packages (from torch->huggan==0.0.0) (2.0.0)\n",
            "Requirement already satisfied: cmake in /usr/local/lib/python3.10/dist-packages (from triton==2.0.0->torch->huggan==0.0.0) (3.25.2)\n",
            "Requirement already satisfied: lit in /usr/local/lib/python3.10/dist-packages (from triton==2.0.0->torch->huggan==0.0.0) (16.0.6)\n",
            "Requirement already satisfied: packaging>=20.0 in /usr/local/lib/python3.10/dist-packages (from accelerate->huggan==0.0.0) (23.1)\n",
            "Requirement already satisfied: psutil in /usr/local/lib/python3.10/dist-packages (from accelerate->huggan==0.0.0) (5.9.5)\n",
            "Requirement already satisfied: pyyaml in /usr/local/lib/python3.10/dist-packages (from accelerate->huggan==0.0.0) (6.0.1)\n",
            "Requirement already satisfied: pyarrow>=8.0.0 in /usr/local/lib/python3.10/dist-packages (from datasets->huggan==0.0.0) (9.0.0)\n",
            "Requirement already satisfied: dill<0.3.8,>=0.3.0 in /usr/local/lib/python3.10/dist-packages (from datasets->huggan==0.0.0) (0.3.7)\n",
            "Requirement already satisfied: pandas in /usr/local/lib/python3.10/dist-packages (from datasets->huggan==0.0.0) (1.5.3)\n",
            "Requirement already satisfied: requests>=2.19.0 in /usr/local/lib/python3.10/dist-packages (from datasets->huggan==0.0.0) (2.27.1)\n",
            "Requirement already satisfied: tqdm>=4.62.1 in /usr/local/lib/python3.10/dist-packages (from datasets->huggan==0.0.0) (4.65.0)\n",
            "Requirement already satisfied: xxhash in /usr/local/lib/python3.10/dist-packages (from datasets->huggan==0.0.0) (3.3.0)\n",
            "Requirement already satisfied: multiprocess in /usr/local/lib/python3.10/dist-packages (from datasets->huggan==0.0.0) (0.70.15)\n",
            "Requirement already satisfied: fsspec[http]>=2021.11.1 in /usr/local/lib/python3.10/dist-packages (from datasets->huggan==0.0.0) (2023.6.0)\n",
            "Requirement already satisfied: aiohttp in /usr/local/lib/python3.10/dist-packages (from datasets->huggan==0.0.0) (3.8.5)\n",
            "Requirement already satisfied: huggingface-hub<1.0.0,>=0.14.0 in /usr/local/lib/python3.10/dist-packages (from datasets->huggan==0.0.0) (0.16.4)\n",
            "Requirement already satisfied: six in /usr/local/lib/python3.10/dist-packages (from fire->huggan==0.0.0) (1.16.0)\n",
            "Requirement already satisfied: termcolor in /usr/local/lib/python3.10/dist-packages (from fire->huggan==0.0.0) (2.3.0)\n",
            "Requirement already satisfied: decorator>=3.4.2 in /usr/local/lib/python3.10/dist-packages (from retry->huggan==0.0.0) (4.4.2)\n",
            "Requirement already satisfied: py<2.0.0,>=1.4.26 in /usr/local/lib/python3.10/dist-packages (from retry->huggan==0.0.0) (1.11.0)\n",
            "Requirement already satisfied: pillow!=8.3.*,>=5.3.0 in /usr/local/lib/python3.10/dist-packages (from torchvision->huggan==0.0.0) (9.4.0)\n",
            "Requirement already satisfied: Click!=8.0.0,>=7.1 in /usr/local/lib/python3.10/dist-packages (from wandb->huggan==0.0.0) (8.1.6)\n",
            "Requirement already satisfied: GitPython!=3.1.29,>=1.0.0 in /usr/local/lib/python3.10/dist-packages (from wandb->huggan==0.0.0) (3.1.32)\n",
            "Requirement already satisfied: sentry-sdk>=1.0.0 in /usr/local/lib/python3.10/dist-packages (from wandb->huggan==0.0.0) (1.29.0)\n",
            "Requirement already satisfied: docker-pycreds>=0.4.0 in /usr/local/lib/python3.10/dist-packages (from wandb->huggan==0.0.0) (0.4.0)\n",
            "Requirement already satisfied: pathtools in /usr/local/lib/python3.10/dist-packages (from wandb->huggan==0.0.0) (0.1.2)\n",
            "Requirement already satisfied: setproctitle in /usr/local/lib/python3.10/dist-packages (from wandb->huggan==0.0.0) (1.3.2)\n",
            "Requirement already satisfied: setuptools in /usr/local/lib/python3.10/dist-packages (from wandb->huggan==0.0.0) (67.7.2)\n",
            "Requirement already satisfied: appdirs>=1.4.3 in /usr/local/lib/python3.10/dist-packages (from wandb->huggan==0.0.0) (1.4.4)\n",
            "Requirement already satisfied: protobuf!=4.21.0,<5,>=3.19.0 in /usr/local/lib/python3.10/dist-packages (from wandb->huggan==0.0.0) (3.20.3)\n",
            "Requirement already satisfied: attrs>=17.3.0 in /usr/local/lib/python3.10/dist-packages (from aiohttp->datasets->huggan==0.0.0) (23.1.0)\n",
            "Requirement already satisfied: charset-normalizer<4.0,>=2.0 in /usr/local/lib/python3.10/dist-packages (from aiohttp->datasets->huggan==0.0.0) (2.0.12)\n",
            "Requirement already satisfied: multidict<7.0,>=4.5 in /usr/local/lib/python3.10/dist-packages (from aiohttp->datasets->huggan==0.0.0) (6.0.4)\n",
            "Requirement already satisfied: async-timeout<5.0,>=4.0.0a3 in /usr/local/lib/python3.10/dist-packages (from aiohttp->datasets->huggan==0.0.0) (4.0.2)\n",
            "Requirement already satisfied: yarl<2.0,>=1.0 in /usr/local/lib/python3.10/dist-packages (from aiohttp->datasets->huggan==0.0.0) (1.9.2)\n",
            "Requirement already satisfied: frozenlist>=1.1.1 in /usr/local/lib/python3.10/dist-packages (from aiohttp->datasets->huggan==0.0.0) (1.4.0)\n",
            "Requirement already satisfied: aiosignal>=1.1.2 in /usr/local/lib/python3.10/dist-packages (from aiohttp->datasets->huggan==0.0.0) (1.3.1)\n",
            "Requirement already satisfied: gitdb<5,>=4.0.1 in /usr/local/lib/python3.10/dist-packages (from GitPython!=3.1.29,>=1.0.0->wandb->huggan==0.0.0) (4.0.10)\n",
            "Requirement already satisfied: urllib3<1.27,>=1.21.1 in /usr/local/lib/python3.10/dist-packages (from requests>=2.19.0->datasets->huggan==0.0.0) (1.26.16)\n",
            "Requirement already satisfied: certifi>=2017.4.17 in /usr/local/lib/python3.10/dist-packages (from requests>=2.19.0->datasets->huggan==0.0.0) (2023.7.22)\n",
            "Requirement already satisfied: idna<4,>=2.5 in /usr/local/lib/python3.10/dist-packages (from requests>=2.19.0->datasets->huggan==0.0.0) (3.4)\n",
            "Requirement already satisfied: MarkupSafe>=2.0 in /usr/local/lib/python3.10/dist-packages (from jinja2->torch->huggan==0.0.0) (2.1.3)\n",
            "Requirement already satisfied: python-dateutil>=2.8.1 in /usr/local/lib/python3.10/dist-packages (from pandas->datasets->huggan==0.0.0) (2.8.2)\n",
            "Requirement already satisfied: pytz>=2020.1 in /usr/local/lib/python3.10/dist-packages (from pandas->datasets->huggan==0.0.0) (2022.7.1)\n",
            "Requirement already satisfied: mpmath>=0.19 in /usr/local/lib/python3.10/dist-packages (from sympy->torch->huggan==0.0.0) (1.3.0)\n",
            "Requirement already satisfied: smmap<6,>=3.0.1 in /usr/local/lib/python3.10/dist-packages (from gitdb<5,>=4.0.1->GitPython!=3.1.29,>=1.0.0->wandb->huggan==0.0.0) (5.0.0)\n",
            "Building wheels for collected packages: huggan\n",
            "  Building wheel for huggan (setup.py) ... \u001b[?25l\u001b[?25hdone\n",
            "  Created wheel for huggan: filename=huggan-0.0.0-py3-none-any.whl size=42628 sha256=f8e1803cdb82354a42674057d40542f6fedf0951ce7b548b343db7ab93d0bf62\n",
            "  Stored in directory: /root/.cache/pip/wheels/f6/38/44/16f688819651a079fc0cd72428043e2629e596d047c6ece41f\n",
            "Successfully built huggan\n",
            "Installing collected packages: huggan\n",
            "  Attempting uninstall: huggan\n",
            "    Found existing installation: huggan 0.0.0\n",
            "    Uninstalling huggan-0.0.0:\n",
            "      Successfully uninstalled huggan-0.0.0\n",
            "Successfully installed huggan-0.0.0\n"
          ]
        }
      ]
    },
    {
      "cell_type": "code",
      "source": [
        "%pwd"
      ],
      "metadata": {
        "colab": {
          "base_uri": "https://localhost:8080/",
          "height": 36
        },
        "id": "lXkDvydzmxXL",
        "outputId": "29c8b571-6fd9-467e-82ae-1aad1503c255"
      },
      "execution_count": 37,
      "outputs": [
        {
          "output_type": "execute_result",
          "data": {
            "text/plain": [
              "'/content/community-events/community-events'"
            ],
            "application/vnd.google.colaboratory.intrinsic+json": {
              "type": "string"
            }
          },
          "metadata": {},
          "execution_count": 37
        }
      ]
    },
    {
      "cell_type": "code",
      "source": [
        "# %cd huggan/pytorch/pix2pix"
      ],
      "metadata": {
        "id": "9S8ohm5mH7O2"
      },
      "execution_count": 38,
      "outputs": []
    },
    {
      "cell_type": "code",
      "source": [
        "!pip install huggingface-hub"
      ],
      "metadata": {
        "colab": {
          "base_uri": "https://localhost:8080/"
        },
        "id": "HYNlmbT8LPTZ",
        "outputId": "427977ba-f978-4720-8b89-112ced7d0190"
      },
      "execution_count": 39,
      "outputs": [
        {
          "output_type": "stream",
          "name": "stdout",
          "text": [
            "Requirement already satisfied: huggingface-hub in /usr/local/lib/python3.10/dist-packages (0.16.4)\n",
            "Requirement already satisfied: filelock in /usr/local/lib/python3.10/dist-packages (from huggingface-hub) (3.12.2)\n",
            "Requirement already satisfied: fsspec in /usr/local/lib/python3.10/dist-packages (from huggingface-hub) (2023.6.0)\n",
            "Requirement already satisfied: requests in /usr/local/lib/python3.10/dist-packages (from huggingface-hub) (2.27.1)\n",
            "Requirement already satisfied: tqdm>=4.42.1 in /usr/local/lib/python3.10/dist-packages (from huggingface-hub) (4.65.0)\n",
            "Requirement already satisfied: pyyaml>=5.1 in /usr/local/lib/python3.10/dist-packages (from huggingface-hub) (6.0.1)\n",
            "Requirement already satisfied: typing-extensions>=3.7.4.3 in /usr/local/lib/python3.10/dist-packages (from huggingface-hub) (4.7.1)\n",
            "Requirement already satisfied: packaging>=20.9 in /usr/local/lib/python3.10/dist-packages (from huggingface-hub) (23.1)\n",
            "Requirement already satisfied: urllib3<1.27,>=1.21.1 in /usr/local/lib/python3.10/dist-packages (from requests->huggingface-hub) (1.26.16)\n",
            "Requirement already satisfied: certifi>=2017.4.17 in /usr/local/lib/python3.10/dist-packages (from requests->huggingface-hub) (2023.7.22)\n",
            "Requirement already satisfied: charset-normalizer~=2.0.0 in /usr/local/lib/python3.10/dist-packages (from requests->huggingface-hub) (2.0.12)\n",
            "Requirement already satisfied: idna<4,>=2.5 in /usr/local/lib/python3.10/dist-packages (from requests->huggingface-hub) (3.4)\n"
          ]
        }
      ]
    },
    {
      "cell_type": "code",
      "source": [
        "!huggingface-cli login"
      ],
      "metadata": {
        "colab": {
          "base_uri": "https://localhost:8080/"
        },
        "id": "1zLc6Vs9LJIn",
        "outputId": "04be8e4e-98ee-4705-957c-d07edd76c9ed"
      },
      "execution_count": null,
      "outputs": [
        {
          "output_type": "stream",
          "name": "stdout",
          "text": [
            "\n",
            "    _|    _|  _|    _|    _|_|_|    _|_|_|  _|_|_|  _|      _|    _|_|_|      _|_|_|_|    _|_|      _|_|_|  _|_|_|_|\n",
            "    _|    _|  _|    _|  _|        _|          _|    _|_|    _|  _|            _|        _|    _|  _|        _|\n",
            "    _|_|_|_|  _|    _|  _|  _|_|  _|  _|_|    _|    _|  _|  _|  _|  _|_|      _|_|_|    _|_|_|_|  _|        _|_|_|\n",
            "    _|    _|  _|    _|  _|    _|  _|    _|    _|    _|    _|_|  _|    _|      _|        _|    _|  _|        _|\n",
            "    _|    _|    _|_|      _|_|_|    _|_|_|  _|_|_|  _|      _|    _|_|_|      _|        _|    _|    _|_|_|  _|_|_|_|\n",
            "    \n",
            "    A token is already saved on your machine. Run `huggingface-cli whoami` to get more information or `huggingface-cli logout` if you want to log out.\n",
            "    Setting a new token will erase the existing one.\n",
            "    To login, `huggingface_hub` requires a token generated from https://huggingface.co/settings/tokens .\n",
            "Token: "
          ]
        }
      ]
    },
    {
      "cell_type": "code",
      "source": [
        "!python3 huggan/pytorch/pix2pix/train.py --dataset bhadresh-savani/private_cartoonify \\\n",
        " --n_epochs 20 --checkpoint_interval 40 --checkpoint_interval 40 \\\n",
        " --push_to_hub --model_name \"cartoonify-pix2pix-gan\" --organization_name \"bhadresh-savani\" --image_size 512 --batch_size 8"
      ],
      "metadata": {
        "colab": {
          "base_uri": "https://localhost:8080/"
        },
        "id": "0f4b5mA6IHE0",
        "outputId": "4c260741-5d9e-43a5-9b0a-c83bfa9e6469"
      },
      "execution_count": 31,
      "outputs": [
        {
          "output_type": "stream",
          "name": "stdout",
          "text": [
            "2023-08-01 11:19:43.566910: I tensorflow/core/platform/cpu_feature_guard.cc:182] This TensorFlow binary is optimized to use available CPU instructions in performance-critical operations.\n",
            "To enable the following instructions: AVX2 AVX512F FMA, in other operations, rebuild TensorFlow with the appropriate compiler flags.\n",
            "2023-08-01 11:19:45.685479: W tensorflow/compiler/tf2tensorrt/utils/py_utils.cc:38] TF-TRT Warning: Could not find TensorRT\n",
            "Namespace(dataset='bhadresh-savani/private_cartoonify', epoch=0, n_epochs=20, batch_size=8, lr=0.0002, b1=0.5, b2=0.999, decay_epoch=100, n_cpu=8, image_size=512, channels=3, sample_interval=500, checkpoint_interval=40, fp16=False, mixed_precision='no', cpu=False, push_to_hub=True, model_name='cartoonify-pix2pix-gan', organization_name='bhadresh-savani')\n",
            "Resolving data files: 100% 30/30 [00:04<00:00,  7.15it/s]\n",
            "Resolving data files: 100% 30/30 [00:00<00:00, 82673.53it/s]\n",
            "/usr/local/lib/python3.10/dist-packages/torch/utils/data/dataloader.py:560: UserWarning: This DataLoader will create 8 worker processes in total. Our suggested max number of worker in current system is 4, which is smaller than what this DataLoader is going to create. Please be aware that excessive worker creation might get DataLoader running slow or even freeze, lower the worker number to avoid potential slowness/freeze if necessary.\n",
            "  warnings.warn(_create_warning_msg(\n",
            "Epoch: 0\n",
            "[Epoch 0/20] [Batch 159/160] [D loss: 0.270712] [G loss: 7.947086, pixel: 0.076609, adv: 0.286172] ETA: 1:26:28.810509Cloning https://huggingface.co/bhadresh-savani/cartoonify-pix2pix-gan into local empty directory.\n",
            "Upload file pytorch_model.bin:  88% 183M/208M [00:09<00:01, 23.5MB/s]To https://huggingface.co/bhadresh-savani/cartoonify-pix2pix-gan\n",
            "   e1b3d00..f76992d  main -> main\n",
            "\n",
            "Upload file pytorch_model.bin: 100% 208M/208M [00:10<00:00, 21.7MB/s]\n",
            "Epoch: 1\n",
            "/usr/local/lib/python3.10/dist-packages/torch/utils/data/dataloader.py:560: UserWarning: This DataLoader will create 8 worker processes in total. Our suggested max number of worker in current system is 4, which is smaller than what this DataLoader is going to create. Please be aware that excessive worker creation might get DataLoader running slow or even freeze, lower the worker number to avoid potential slowness/freeze if necessary.\n",
            "  warnings.warn(_create_warning_msg(\n",
            "[Epoch 1/20] [Batch 159/160] [D loss: 0.287392] [G loss: 8.132429, pixel: 0.078169, adv: 0.315496] ETA: 1:16:43.881417Cloning https://huggingface.co/bhadresh-savani/cartoonify-pix2pix-gan into local empty directory.\n",
            "Upload file pytorch_model.bin:  96% 198M/208M [00:09<00:00, 26.4MB/s]To https://huggingface.co/bhadresh-savani/cartoonify-pix2pix-gan\n",
            "   f76992d..1f7a6c9  main -> main\n",
            "\n",
            "Upload file pytorch_model.bin: 100% 208M/208M [00:10<00:00, 21.7MB/s]\n",
            "Epoch: 2\n",
            "/usr/local/lib/python3.10/dist-packages/torch/utils/data/dataloader.py:560: UserWarning: This DataLoader will create 8 worker processes in total. Our suggested max number of worker in current system is 4, which is smaller than what this DataLoader is going to create. Please be aware that excessive worker creation might get DataLoader running slow or even freeze, lower the worker number to avoid potential slowness/freeze if necessary.\n",
            "  warnings.warn(_create_warning_msg(\n",
            "[Epoch 2/20] [Batch 159/160] [D loss: 0.254660] [G loss: 7.612434, pixel: 0.073571, adv: 0.255355] ETA: 1:20:15.292856Cloning https://huggingface.co/bhadresh-savani/cartoonify-pix2pix-gan into local empty directory.\n",
            "Upload file pytorch_model.bin:  96% 198M/208M [00:09<00:00, 27.5MB/s]To https://huggingface.co/bhadresh-savani/cartoonify-pix2pix-gan\n",
            "   1f7a6c9..2a9265f  main -> main\n",
            "\n",
            "Upload file pytorch_model.bin: 100% 208M/208M [00:10<00:00, 21.7MB/s]\n",
            "Epoch: 3\n",
            "/usr/local/lib/python3.10/dist-packages/torch/utils/data/dataloader.py:560: UserWarning: This DataLoader will create 8 worker processes in total. Our suggested max number of worker in current system is 4, which is smaller than what this DataLoader is going to create. Please be aware that excessive worker creation might get DataLoader running slow or even freeze, lower the worker number to avoid potential slowness/freeze if necessary.\n",
            "  warnings.warn(_create_warning_msg(\n",
            "[Epoch 3/20] [Batch 159/160] [D loss: 0.292543] [G loss: 6.456125, pixel: 0.061505, adv: 0.305665] ETA: 1:06:04.144935Cloning https://huggingface.co/bhadresh-savani/cartoonify-pix2pix-gan into local empty directory.\n",
            "Upload file pytorch_model.bin:  96% 198M/208M [00:09<00:00, 27.5MB/s]To https://huggingface.co/bhadresh-savani/cartoonify-pix2pix-gan\n",
            "   2a9265f..22b6ce1  main -> main\n",
            "\n",
            "Upload file pytorch_model.bin: 100% 208M/208M [00:10<00:00, 21.7MB/s]\n",
            "Epoch: 4\n",
            "/usr/local/lib/python3.10/dist-packages/torch/utils/data/dataloader.py:560: UserWarning: This DataLoader will create 8 worker processes in total. Our suggested max number of worker in current system is 4, which is smaller than what this DataLoader is going to create. Please be aware that excessive worker creation might get DataLoader running slow or even freeze, lower the worker number to avoid potential slowness/freeze if necessary.\n",
            "  warnings.warn(_create_warning_msg(\n",
            "[Epoch 4/20] [Batch 159/160] [D loss: 0.253754] [G loss: 6.867684, pixel: 0.066098, adv: 0.257844] ETA: 1:08:22.554213Cloning https://huggingface.co/bhadresh-savani/cartoonify-pix2pix-gan into local empty directory.\n",
            "Upload file pytorch_model.bin:  96% 198M/208M [00:09<00:00, 26.1MB/s]To https://huggingface.co/bhadresh-savani/cartoonify-pix2pix-gan\n",
            "   22b6ce1..844696e  main -> main\n",
            "\n",
            "Upload file pytorch_model.bin: 100% 208M/208M [00:11<00:00, 19.8MB/s]\n",
            "Epoch: 5\n",
            "/usr/local/lib/python3.10/dist-packages/torch/utils/data/dataloader.py:560: UserWarning: This DataLoader will create 8 worker processes in total. Our suggested max number of worker in current system is 4, which is smaller than what this DataLoader is going to create. Please be aware that excessive worker creation might get DataLoader running slow or even freeze, lower the worker number to avoid potential slowness/freeze if necessary.\n",
            "  warnings.warn(_create_warning_msg(\n",
            "[Epoch 5/20] [Batch 159/160] [D loss: 0.262225] [G loss: 5.064174, pixel: 0.047996, adv: 0.264596] ETA: 1:01:59.153492Cloning https://huggingface.co/bhadresh-savani/cartoonify-pix2pix-gan into local empty directory.\n",
            "Upload file pytorch_model.bin: 214MB [00:10, 27.5MB/s]               To https://huggingface.co/bhadresh-savani/cartoonify-pix2pix-gan\n",
            "   844696e..c874524  main -> main\n",
            "\n",
            "Upload file pytorch_model.bin: 100% 208M/208M [00:11<00:00, 19.8MB/s]\n",
            "Epoch: 6\n",
            "/usr/local/lib/python3.10/dist-packages/torch/utils/data/dataloader.py:560: UserWarning: This DataLoader will create 8 worker processes in total. Our suggested max number of worker in current system is 4, which is smaller than what this DataLoader is going to create. Please be aware that excessive worker creation might get DataLoader running slow or even freeze, lower the worker number to avoid potential slowness/freeze if necessary.\n",
            "  warnings.warn(_create_warning_msg(\n",
            "[Epoch 6/20] [Batch 159/160] [D loss: 0.253295] [G loss: 5.850511, pixel: 0.055801, adv: 0.270377] ETA: 0:56:34.099676Cloning https://huggingface.co/bhadresh-savani/cartoonify-pix2pix-gan into local empty directory.\n",
            "Upload file pytorch_model.bin:  96% 198M/208M [00:09<00:00, 26.4MB/s]To https://huggingface.co/bhadresh-savani/cartoonify-pix2pix-gan\n",
            "   c874524..f8544e6  main -> main\n",
            "\n",
            "Upload file pytorch_model.bin: 100% 208M/208M [00:10<00:00, 21.7MB/s]\n",
            "Epoch: 7\n",
            "/usr/local/lib/python3.10/dist-packages/torch/utils/data/dataloader.py:560: UserWarning: This DataLoader will create 8 worker processes in total. Our suggested max number of worker in current system is 4, which is smaller than what this DataLoader is going to create. Please be aware that excessive worker creation might get DataLoader running slow or even freeze, lower the worker number to avoid potential slowness/freeze if necessary.\n",
            "  warnings.warn(_create_warning_msg(\n",
            "[Epoch 7/20] [Batch 159/160] [D loss: 0.257815] [G loss: 6.156404, pixel: 0.058954, adv: 0.261030] ETA: 0:53:36.586237Cloning https://huggingface.co/bhadresh-savani/cartoonify-pix2pix-gan into local empty directory.\n",
            "Upload file pytorch_model.bin:  96% 198M/208M [00:09<00:00, 26.1MB/s]To https://huggingface.co/bhadresh-savani/cartoonify-pix2pix-gan\n",
            "   f8544e6..884de6e  main -> main\n",
            "\n",
            "Upload file pytorch_model.bin: 100% 208M/208M [00:10<00:00, 21.7MB/s]\n",
            "Epoch: 8\n",
            "/usr/local/lib/python3.10/dist-packages/torch/utils/data/dataloader.py:560: UserWarning: This DataLoader will create 8 worker processes in total. Our suggested max number of worker in current system is 4, which is smaller than what this DataLoader is going to create. Please be aware that excessive worker creation might get DataLoader running slow or even freeze, lower the worker number to avoid potential slowness/freeze if necessary.\n",
            "  warnings.warn(_create_warning_msg(\n",
            "[Epoch 8/20] [Batch 159/160] [D loss: 0.291987] [G loss: 4.805795, pixel: 0.044865, adv: 0.319294] ETA: 0:48:02.656802Cloning https://huggingface.co/bhadresh-savani/cartoonify-pix2pix-gan into local empty directory.\n",
            "Upload file pytorch_model.bin: 214MB [00:10, 26.1MB/s]               To https://huggingface.co/bhadresh-savani/cartoonify-pix2pix-gan\n",
            "   884de6e..ace57ce  main -> main\n",
            "\n",
            "Upload file pytorch_model.bin: 100% 208M/208M [00:11<00:00, 19.8MB/s]\n",
            "Epoch: 9\n",
            "/usr/local/lib/python3.10/dist-packages/torch/utils/data/dataloader.py:560: UserWarning: This DataLoader will create 8 worker processes in total. Our suggested max number of worker in current system is 4, which is smaller than what this DataLoader is going to create. Please be aware that excessive worker creation might get DataLoader running slow or even freeze, lower the worker number to avoid potential slowness/freeze if necessary.\n",
            "  warnings.warn(_create_warning_msg(\n",
            "[Epoch 9/20] [Batch 159/160] [D loss: 0.251390] [G loss: 5.142878, pixel: 0.048780, adv: 0.264839] ETA: 0:41:12.936298Cloning https://huggingface.co/bhadresh-savani/cartoonify-pix2pix-gan into local empty directory.\n",
            "Upload file pytorch_model.bin:  96% 198M/208M [00:09<00:00, 24.0MB/s]To https://huggingface.co/bhadresh-savani/cartoonify-pix2pix-gan\n",
            "   ace57ce..bbadd35  main -> main\n",
            "\n",
            "Upload file pytorch_model.bin: 100% 208M/208M [00:10<00:00, 21.7MB/s]\n",
            "Epoch: 10\n",
            "/usr/local/lib/python3.10/dist-packages/torch/utils/data/dataloader.py:560: UserWarning: This DataLoader will create 8 worker processes in total. Our suggested max number of worker in current system is 4, which is smaller than what this DataLoader is going to create. Please be aware that excessive worker creation might get DataLoader running slow or even freeze, lower the worker number to avoid potential slowness/freeze if necessary.\n",
            "  warnings.warn(_create_warning_msg(\n",
            "[Epoch 10/20] [Batch 159/160] [D loss: 0.252025] [G loss: 5.921589, pixel: 0.056709, adv: 0.250692] ETA: 0:36:49.889904Cloning https://huggingface.co/bhadresh-savani/cartoonify-pix2pix-gan into local empty directory.\n",
            "Upload file pytorch_model.bin:  96% 198M/208M [00:09<00:00, 24.5MB/s]To https://huggingface.co/bhadresh-savani/cartoonify-pix2pix-gan\n",
            "   bbadd35..736d2de  main -> main\n",
            "\n",
            "Upload file pytorch_model.bin: 100% 208M/208M [00:10<00:00, 21.7MB/s]\n",
            "Epoch: 11\n",
            "/usr/local/lib/python3.10/dist-packages/torch/utils/data/dataloader.py:560: UserWarning: This DataLoader will create 8 worker processes in total. Our suggested max number of worker in current system is 4, which is smaller than what this DataLoader is going to create. Please be aware that excessive worker creation might get DataLoader running slow or even freeze, lower the worker number to avoid potential slowness/freeze if necessary.\n",
            "  warnings.warn(_create_warning_msg(\n",
            "[Epoch 11/20] [Batch 159/160] [D loss: 0.251739] [G loss: 4.535043, pixel: 0.042796, adv: 0.255483] ETA: 0:34:12.156195Cloning https://huggingface.co/bhadresh-savani/cartoonify-pix2pix-gan into local empty directory.\n",
            "Upload file pytorch_model.bin:  96% 198M/208M [00:09<00:00, 27.5MB/s]To https://huggingface.co/bhadresh-savani/cartoonify-pix2pix-gan\n",
            "   736d2de..0c891c6  main -> main\n",
            "\n",
            "Upload file pytorch_model.bin: 100% 208M/208M [00:10<00:00, 21.7MB/s]\n",
            "Epoch: 12\n",
            "/usr/local/lib/python3.10/dist-packages/torch/utils/data/dataloader.py:560: UserWarning: This DataLoader will create 8 worker processes in total. Our suggested max number of worker in current system is 4, which is smaller than what this DataLoader is going to create. Please be aware that excessive worker creation might get DataLoader running slow or even freeze, lower the worker number to avoid potential slowness/freeze if necessary.\n",
            "  warnings.warn(_create_warning_msg(\n",
            "[Epoch 12/20] [Batch 159/160] [D loss: 0.268943] [G loss: 4.825900, pixel: 0.045532, adv: 0.272725] ETA: 0:29:28.732281Cloning https://huggingface.co/bhadresh-savani/cartoonify-pix2pix-gan into local empty directory.\n",
            "Upload file pytorch_model.bin: 214MB [00:10, 24.1MB/s]               To https://huggingface.co/bhadresh-savani/cartoonify-pix2pix-gan\n",
            "   0c891c6..3e2679b  main -> main\n",
            "\n",
            "Upload file pytorch_model.bin: 100% 208M/208M [00:11<00:00, 19.8MB/s]\n",
            "Epoch: 13\n",
            "/usr/local/lib/python3.10/dist-packages/torch/utils/data/dataloader.py:560: UserWarning: This DataLoader will create 8 worker processes in total. Our suggested max number of worker in current system is 4, which is smaller than what this DataLoader is going to create. Please be aware that excessive worker creation might get DataLoader running slow or even freeze, lower the worker number to avoid potential slowness/freeze if necessary.\n",
            "  warnings.warn(_create_warning_msg(\n",
            "[Epoch 13/20] [Batch 159/160] [D loss: 0.251373] [G loss: 4.663785, pixel: 0.044257, adv: 0.238063] ETA: 0:26:42.072515Cloning https://huggingface.co/bhadresh-savani/cartoonify-pix2pix-gan into local empty directory.\n",
            "Upload file pytorch_model.bin:  88% 183M/208M [00:09<00:01, 22.9MB/s]To https://huggingface.co/bhadresh-savani/cartoonify-pix2pix-gan\n",
            "   3e2679b..34f0cbf  main -> main\n",
            "\n",
            "Upload file pytorch_model.bin: 100% 208M/208M [00:10<00:00, 21.7MB/s]\n",
            "Epoch: 14\n",
            "/usr/local/lib/python3.10/dist-packages/torch/utils/data/dataloader.py:560: UserWarning: This DataLoader will create 8 worker processes in total. Our suggested max number of worker in current system is 4, which is smaller than what this DataLoader is going to create. Please be aware that excessive worker creation might get DataLoader running slow or even freeze, lower the worker number to avoid potential slowness/freeze if necessary.\n",
            "  warnings.warn(_create_warning_msg(\n",
            "[Epoch 14/20] [Batch 159/160] [D loss: 0.255818] [G loss: 5.016461, pixel: 0.047460, adv: 0.270506] ETA: 0:21:19.183539Cloning https://huggingface.co/bhadresh-savani/cartoonify-pix2pix-gan into local empty directory.\n",
            "Upload file pytorch_model.bin:  96% 198M/208M [00:09<00:00, 27.5MB/s]To https://huggingface.co/bhadresh-savani/cartoonify-pix2pix-gan\n",
            "   34f0cbf..cd480b1  main -> main\n",
            "\n",
            "Upload file pytorch_model.bin: 100% 208M/208M [00:10<00:00, 21.7MB/s]\n",
            "Epoch: 15\n",
            "/usr/local/lib/python3.10/dist-packages/torch/utils/data/dataloader.py:560: UserWarning: This DataLoader will create 8 worker processes in total. Our suggested max number of worker in current system is 4, which is smaller than what this DataLoader is going to create. Please be aware that excessive worker creation might get DataLoader running slow or even freeze, lower the worker number to avoid potential slowness/freeze if necessary.\n",
            "  warnings.warn(_create_warning_msg(\n",
            "[Epoch 15/20] [Batch 159/160] [D loss: 0.249705] [G loss: 4.735252, pixel: 0.044729, adv: 0.262389] ETA: 0:16:43.877054Cloning https://huggingface.co/bhadresh-savani/cartoonify-pix2pix-gan into local empty directory.\n",
            "Upload file pytorch_model.bin:  96% 198M/208M [00:10<00:00, 22.6MB/s]To https://huggingface.co/bhadresh-savani/cartoonify-pix2pix-gan\n",
            "   cd480b1..69a70d1  main -> main\n",
            "\n",
            "Upload file pytorch_model.bin: 100% 208M/208M [00:11<00:00, 19.8MB/s]\n",
            "Epoch: 16\n",
            "/usr/local/lib/python3.10/dist-packages/torch/utils/data/dataloader.py:560: UserWarning: This DataLoader will create 8 worker processes in total. Our suggested max number of worker in current system is 4, which is smaller than what this DataLoader is going to create. Please be aware that excessive worker creation might get DataLoader running slow or even freeze, lower the worker number to avoid potential slowness/freeze if necessary.\n",
            "  warnings.warn(_create_warning_msg(\n",
            "[Epoch 16/20] [Batch 159/160] [D loss: 0.256323] [G loss: 4.795620, pixel: 0.045432, adv: 0.252413] ETA: 0:14:12.409330Cloning https://huggingface.co/bhadresh-savani/cartoonify-pix2pix-gan into local empty directory.\n",
            "Upload file pytorch_model.bin:  96% 198M/208M [00:10<00:00, 22.4MB/s]To https://huggingface.co/bhadresh-savani/cartoonify-pix2pix-gan\n",
            "   69a70d1..0f707e2  main -> main\n",
            "\n",
            "Upload file pytorch_model.bin: 100% 208M/208M [00:11<00:00, 19.8MB/s]\n",
            "Epoch: 17\n",
            "/usr/local/lib/python3.10/dist-packages/torch/utils/data/dataloader.py:560: UserWarning: This DataLoader will create 8 worker processes in total. Our suggested max number of worker in current system is 4, which is smaller than what this DataLoader is going to create. Please be aware that excessive worker creation might get DataLoader running slow or even freeze, lower the worker number to avoid potential slowness/freeze if necessary.\n",
            "  warnings.warn(_create_warning_msg(\n",
            "[Epoch 17/20] [Batch 159/160] [D loss: 0.265137] [G loss: 4.178956, pixel: 0.039147, adv: 0.264258] ETA: 0:08:20.966083Cloning https://huggingface.co/bhadresh-savani/cartoonify-pix2pix-gan into local empty directory.\n",
            "Upload file pytorch_model.bin:  96% 198M/208M [00:09<00:00, 24.6MB/s]To https://huggingface.co/bhadresh-savani/cartoonify-pix2pix-gan\n",
            "   0f707e2..3a566ee  main -> main\n",
            "\n",
            "Upload file pytorch_model.bin: 100% 208M/208M [00:10<00:00, 21.7MB/s]\n",
            "Epoch: 18\n",
            "/usr/local/lib/python3.10/dist-packages/torch/utils/data/dataloader.py:560: UserWarning: This DataLoader will create 8 worker processes in total. Our suggested max number of worker in current system is 4, which is smaller than what this DataLoader is going to create. Please be aware that excessive worker creation might get DataLoader running slow or even freeze, lower the worker number to avoid potential slowness/freeze if necessary.\n",
            "  warnings.warn(_create_warning_msg(\n",
            "[Epoch 18/20] [Batch 159/160] [D loss: 0.246425] [G loss: 4.502077, pixel: 0.042370, adv: 0.265104] ETA: 0:04:33.706341Cloning https://huggingface.co/bhadresh-savani/cartoonify-pix2pix-gan into local empty directory.\n",
            "Upload file pytorch_model.bin:  96% 198M/208M [00:10<00:00, 25.5MB/s]To https://huggingface.co/bhadresh-savani/cartoonify-pix2pix-gan\n",
            "   3a566ee..2e421ab  main -> main\n",
            "\n",
            "Upload file pytorch_model.bin: 100% 208M/208M [00:11<00:00, 19.8MB/s]\n",
            "Epoch: 19\n",
            "/usr/local/lib/python3.10/dist-packages/torch/utils/data/dataloader.py:560: UserWarning: This DataLoader will create 8 worker processes in total. Our suggested max number of worker in current system is 4, which is smaller than what this DataLoader is going to create. Please be aware that excessive worker creation might get DataLoader running slow or even freeze, lower the worker number to avoid potential slowness/freeze if necessary.\n",
            "  warnings.warn(_create_warning_msg(\n",
            "[Epoch 19/20] [Batch 159/160] [D loss: 0.269006] [G loss: 5.034863, pixel: 0.047276, adv: 0.307257] ETA: 0:00:01.669242Cloning https://huggingface.co/bhadresh-savani/cartoonify-pix2pix-gan into local empty directory.\n",
            "Upload file pytorch_model.bin: 214MB [00:10, 27.5MB/s]               To https://huggingface.co/bhadresh-savani/cartoonify-pix2pix-gan\n",
            "   2e421ab..17d343d  main -> main\n",
            "\n",
            "Upload file pytorch_model.bin: 100% 208M/208M [00:11<00:00, 19.8MB/s]\n"
          ]
        }
      ]
    },
    {
      "cell_type": "code",
      "source": [],
      "metadata": {
        "id": "oV3hWOSlxHeh"
      },
      "execution_count": null,
      "outputs": []
    }
  ]
}